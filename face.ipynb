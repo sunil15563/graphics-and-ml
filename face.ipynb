{
 "cells": [
  {
   "cell_type": "code",
   "execution_count": 37,
   "metadata": {
    "collapsed": true
   },
   "outputs": [],
   "source": [
    "from pylab import *\n",
    "from scipy.misc import imresize"
   ]
  },
  {
   "cell_type": "code",
   "execution_count": 61,
   "metadata": {
    "collapsed": true
   },
   "outputs": [],
   "source": [
    "a=list()\n",
    "a_r=list()\n",
    "x=list(range(4000,4019))"
   ]
  },
  {
   "cell_type": "code",
   "execution_count": 62,
   "metadata": {
    "collapsed": true
   },
   "outputs": [],
   "source": [
    "for i in x:\n",
    "    a.append(imread('0'+str(i)+'/27_11.jpg'))\n",
    "    a[-1]=imresize(a[-1],(50,50))\n",
    "    a_r.append(reshape(a[-1],(1,2500)))"
   ]
  },
  {
   "cell_type": "code",
   "execution_count": 63,
   "metadata": {
    "collapsed": true
   },
   "outputs": [],
   "source": [
    "x=array([x])"
   ]
  },
  {
   "cell_type": "code",
   "execution_count": 64,
   "metadata": {},
   "outputs": [
    {
     "data": {
      "text/plain": [
       "array([[4000, 4001, 4002, 4003, 4004, 4005, 4006, 4007, 4008, 4009, 4010,\n",
       "        4011, 4012, 4013, 4014, 4015, 4016, 4017, 4018]])"
      ]
     },
     "execution_count": 64,
     "metadata": {},
     "output_type": "execute_result"
    }
   ],
   "source": [
    "x_t=x.T\n",
    "x"
   ]
  },
  {
   "cell_type": "code",
   "execution_count": 65,
   "metadata": {},
   "outputs": [
    {
     "data": {
      "text/plain": [
       "array([[4000],\n",
       "       [4001],\n",
       "       [4002],\n",
       "       [4003],\n",
       "       [4004],\n",
       "       [4005],\n",
       "       [4006],\n",
       "       [4007],\n",
       "       [4008],\n",
       "       [4009],\n",
       "       [4010],\n",
       "       [4011],\n",
       "       [4012],\n",
       "       [4013],\n",
       "       [4014],\n",
       "       [4015],\n",
       "       [4016],\n",
       "       [4017],\n",
       "       [4018]])"
      ]
     },
     "execution_count": 65,
     "metadata": {},
     "output_type": "execute_result"
    }
   ],
   "source": [
    "x_t"
   ]
  },
  {
   "cell_type": "code",
   "execution_count": 66,
   "metadata": {
    "collapsed": true
   },
   "outputs": [],
   "source": [
    "z=dot(x,x_t)"
   ]
  },
  {
   "cell_type": "code",
   "execution_count": 67,
   "metadata": {},
   "outputs": [
    {
     "data": {
      "text/plain": [
       "array([[  3.27471475e-09]])"
      ]
     },
     "execution_count": 67,
     "metadata": {},
     "output_type": "execute_result"
    }
   ],
   "source": [
    "z=inv(z)\n",
    "z"
   ]
  },
  {
   "cell_type": "code",
   "execution_count": 68,
   "metadata": {
    "collapsed": true
   },
   "outputs": [],
   "source": [
    "j=0\n",
    "for i in a_r:\n",
    "    tem=i\n",
    "    a_r[j]=tem[0]\n",
    "    j+=1"
   ]
  },
  {
   "cell_type": "code",
   "execution_count": 69,
   "metadata": {},
   "outputs": [
    {
     "data": {
      "text/plain": [
       "[array([17, 23, 53, ..., 48, 28, 33], dtype=uint8),\n",
       " array([60, 63, 69, ..., 37, 44, 44], dtype=uint8),\n",
       " array([83, 89, 96, ..., 78, 79, 62], dtype=uint8),\n",
       " array([ 7,  9,  7, ..., 29, 13,  8], dtype=uint8),\n",
       " array([51, 58, 47, ..., 77, 66, 50], dtype=uint8),\n",
       " array([12, 21, 41, ..., 15, 16, 29], dtype=uint8),\n",
       " array([60, 64, 66, ..., 32, 35, 39], dtype=uint8),\n",
       " array([70, 74, 85, ..., 35, 29, 37], dtype=uint8),\n",
       " array([86, 91, 93, ..., 75, 74, 74], dtype=uint8),\n",
       " array([48, 54, 67, ..., 10,  9,  6], dtype=uint8),\n",
       " array([74, 78, 83, ..., 35, 68, 82], dtype=uint8),\n",
       " array([13, 21, 31, ..., 18, 35, 40], dtype=uint8),\n",
       " array([49, 61, 68, ..., 33, 45, 53], dtype=uint8),\n",
       " array([11, 10, 10, ..., 25, 33, 23], dtype=uint8),\n",
       " array([ 12,  14,  22, ..., 157, 150, 144], dtype=uint8),\n",
       " array([109, 106, 114, ...,  34,  60,  63], dtype=uint8),\n",
       " array([101, 103, 117, ..., 118, 110,  99], dtype=uint8),\n",
       " array([66, 77, 89, ..., 19, 27, 33], dtype=uint8),\n",
       " array([50, 77, 93, ..., 84, 62, 38], dtype=uint8)]"
      ]
     },
     "execution_count": 69,
     "metadata": {},
     "output_type": "execute_result"
    }
   ],
   "source": [
    "a_r"
   ]
  },
  {
   "cell_type": "code",
   "execution_count": 70,
   "metadata": {
    "collapsed": true
   },
   "outputs": [],
   "source": [
    "b=dot(x,a_r)"
   ]
  },
  {
   "cell_type": "code",
   "execution_count": 71,
   "metadata": {
    "collapsed": true
   },
   "outputs": [],
   "source": [
    "b=dot(z[0],b)"
   ]
  },
  {
   "cell_type": "code",
   "execution_count": 72,
   "metadata": {},
   "outputs": [
    {
     "data": {
      "text/plain": [
       "array([ 0.01285501,  0.01435217,  0.01642665, ...,  0.01259288,\n",
       "        0.01290906,  0.01256725])"
      ]
     },
     "execution_count": 72,
     "metadata": {},
     "output_type": "execute_result"
    }
   ],
   "source": [
    "b"
   ]
  },
  {
   "cell_type": "code",
   "execution_count": 73,
   "metadata": {},
   "outputs": [],
   "source": [
    "y=dot(4020,b)"
   ]
  },
  {
   "cell_type": "code",
   "execution_count": 74,
   "metadata": {},
   "outputs": [
    {
     "data": {
      "text/plain": [
       "(2500,)"
      ]
     },
     "execution_count": 74,
     "metadata": {},
     "output_type": "execute_result"
    }
   ],
   "source": [
    "y.shape"
   ]
  },
  {
   "cell_type": "code",
   "execution_count": 75,
   "metadata": {},
   "outputs": [
    {
     "data": {
      "image/png": "[encoded data removed]",
      "text/plain": [
       "<matplotlib.figure.Figure at 0xc18e2985c0>"
      ]
     },
     "metadata": {},
     "output_type": "display_data"
    }
   ],
   "source": [
    "imshow(reshape(y,(50,50)))\n",
    "show()"
   ]
  },
  {
   "cell_type": "code",
   "execution_count": 76,
   "metadata": {},
   "outputs": [
    {
     "data": {
      "image/png": "[encoded data removed]",
      "text/plain": [
       "<matplotlib.figure.Figure at 0xc18fc2e7b8>"
      ]
     },
     "metadata": {},
     "output_type": "display_data"
    }
   ],
   "source": [
    "new_i=imread(\"04020/27_11.jpg\")\n",
    "imshow(imresize(new_i,(50,50)))\n",
    "show()"
   ]
  },
  {
   "cell_type": "code",
   "execution_count": null,
   "metadata": {
    "collapsed": true
   },
   "outputs": [],
   "source": []
  }
 ],
 "metadata": {
  "kernelspec": {
   "display_name": "Python 3",
   "language": "python",
   "name": "python3"
  },
  "language_info": {
   "codemirror_mode": {
    "name": "ipython",
    "version": 3
   },
   "file_extension": ".py",
   "mimetype": "text/x-python",
   "name": "python",
   "nbconvert_exporter": "python",
   "pygments_lexer": "ipython3",
   "version": "3.6.3"
  }
 },
 "nbformat": 4,
 "nbformat_minor": 2
}
