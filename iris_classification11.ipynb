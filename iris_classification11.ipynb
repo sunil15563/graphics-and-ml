{
 "cells": [
  {
   "cell_type": "code",
   "execution_count": 2,
   "metadata": {
    "collapsed": true
   },
   "outputs": [],
   "source": [
    "import numpy as np\n",
    "import scipy\n",
    "import matplotlib as mat\n",
    "from matplotlib import pyplot as plt\n",
    "import sklearn\n",
    "import pandas as pd"
   ]
  },
  {
   "cell_type": "code",
   "execution_count": 3,
   "metadata": {
    "collapsed": true
   },
   "outputs": [],
   "source": [
    "from sklearn import model_selection\n",
    "\n",
    "from sklearn.tree import DecisionTreeClassifier\n",
    "from sklearn.neighbors import KNeighborsClassifier\n",
    "from sklearn.svm import SVC\n",
    "\n",
    "from sklearn.metrics import classification_report\n",
    "from sklearn.metrics import accuracy_score\n",
    "from sklearn.metrics import confusion_matrix"
   ]
  },
  {
   "cell_type": "code",
   "execution_count": 4,
   "metadata": {},
   "outputs": [
    {
     "name": "stdout",
     "output_type": "stream",
     "text": [
      "   len_sepal  width_sepal  len_petal  width_petal        class\n",
      "0        5.1          3.5        1.4          0.2  Iris-setosa\n",
      "1        4.9          3.0        1.4          0.2  Iris-setosa\n",
      "2        4.7          3.2        1.3          0.2  Iris-setosa\n",
      "3        4.6          3.1        1.5          0.2  Iris-setosa\n",
      "4        5.0          3.6        1.4          0.2  Iris-setosa\n"
     ]
    }
   ],
   "source": [
    "nameDataset = \"iris.txt\"\n",
    "nameFeatures =['len_sepal','width_sepal','len_petal','width_petal','class']\n",
    "df = pd.read_csv(nameDataset,names=nameFeatures) # returns a dataframe\n",
    "print(df.head())"
   ]
  },
  {
   "cell_type": "code",
   "execution_count": 5,
   "metadata": {},
   "outputs": [
    {
     "name": "stdout",
     "output_type": "stream",
     "text": [
      "(150, 5)\n"
     ]
    }
   ],
   "source": [
    "print(df.shape)"
   ]
  },
  {
   "cell_type": "code",
   "execution_count": 6,
   "metadata": {},
   "outputs": [
    {
     "name": "stdout",
     "output_type": "stream",
     "text": [
      "        len_sepal  width_sepal   len_petal  width_petal\n",
      "count  150.000000   150.000000  150.000000   150.000000\n",
      "mean     5.843333     3.054000    3.758667     1.198667\n",
      "std      0.828066     0.433594    1.764420     0.763161\n",
      "min      4.300000     2.000000    1.000000     0.100000\n",
      "25%      5.100000     2.800000    1.600000     0.300000\n",
      "50%      5.800000     3.000000    4.350000     1.300000\n",
      "75%      6.400000     3.300000    5.100000     1.800000\n",
      "max      7.900000     4.400000    6.900000     2.500000\n"
     ]
    }
   ],
   "source": [
    "print(df.describe())"
   ]
  },
  {
   "cell_type": "code",
   "execution_count": 7,
   "metadata": {},
   "outputs": [
    {
     "data": {
      "text/plain": [
       "class\n",
       "Iris-setosa        50\n",
       "Iris-versicolor    50\n",
       "Iris-virginica     50\n",
       "dtype: int64"
      ]
     },
     "execution_count": 7,
     "metadata": {},
     "output_type": "execute_result"
    }
   ],
   "source": [
    "df.groupby('class').size()"
   ]
  },
  {
   "cell_type": "code",
   "execution_count": 8,
   "metadata": {
    "collapsed": true
   },
   "outputs": [],
   "source": [
    "data=df.values"
   ]
  },
  {
   "cell_type": "code",
   "execution_count": 9,
   "metadata": {},
   "outputs": [
    {
     "name": "stdout",
     "output_type": "stream",
     "text": [
      "[[5.1 3.5 1.4 0.2]\n",
      " [4.9 3.0 1.4 0.2]\n",
      " [4.7 3.2 1.3 0.2]\n",
      " [4.6 3.1 1.5 0.2]\n",
      " [5.0 3.6 1.4 0.2]\n",
      " [5.4 3.9 1.7 0.4]\n",
      " [4.6 3.4 1.4 0.3]\n",
      " [5.0 3.4 1.5 0.2]\n",
      " [4.4 2.9 1.4 0.2]]\n",
      "['Iris-setosa' 'Iris-setosa' 'Iris-setosa' 'Iris-setosa' 'Iris-setosa'\n",
      " 'Iris-setosa' 'Iris-setosa' 'Iris-setosa' 'Iris-setosa']\n"
     ]
    }
   ],
   "source": [
    "X=data[:,0:-1]\n",
    "Y=data[:,-1]\n",
    "print(X[0:9])\n",
    "print(Y[0:9])"
   ]
  },
  {
   "cell_type": "code",
   "execution_count": 10,
   "metadata": {
    "collapsed": true
   },
   "outputs": [],
   "source": [
    "Val_size=0.30\n",
    "random_seed=3\n",
    "X_train,X_test,Y_train,Y_test=model_selection.train_test_split(X,Y,test_size = Val_size,random_state=random_seed)"
   ]
  },
  {
   "cell_type": "code",
   "execution_count": 12,
   "metadata": {},
   "outputs": [
    {
     "name": "stdout",
     "output_type": "stream",
     "text": [
      "Accuracy on the Test Data \n",
      "0.977777777778\n",
      "\n",
      "\n",
      "Clasification Report on the Test Data\n",
      "                 precision    recall  f1-score   support\n",
      "\n",
      "    Iris-setosa       1.00      1.00      1.00        17\n",
      "Iris-versicolor       1.00      0.93      0.96        14\n",
      " Iris-virginica       0.93      1.00      0.97        14\n",
      "\n",
      "    avg / total       0.98      0.98      0.98        45\n",
      "\n"
     ]
    }
   ],
   "source": [
    "deciTree = DecisionTreeClassifier()\n",
    "deciTree.fit(X_train, Y_train)\n",
    "predictions = deciTree.predict(X_test)\n",
    "print(\"Accuracy on the Test Data \")\n",
    "print(accuracy_score(Y_test, predictions))\n",
    "print()\n",
    "print()\n",
    "print(\"Clasification Report on the Test Data\")\n",
    "print(classification_report(Y_test, predictions))"
   ]
  },
  {
   "cell_type": "code",
   "execution_count": 13,
   "metadata": {},
   "outputs": [
    {
     "name": "stdout",
     "output_type": "stream",
     "text": [
      "[ 0.85714286  0.95238095  0.85714286  0.95238095  0.9047619 ]\n",
      "0.904761904762\n"
     ]
    }
   ],
   "source": [
    "eval = 'accuracy'\n",
    "seed = 4\n",
    "model = DecisionTreeClassifier()\n",
    "kfold = model_selection.KFold(n_splits=5, shuffle=True, random_state=seed) #shuffle the data \n",
    "results = model_selection.cross_val_score(model, X_train, Y_train, cv=kfold, scoring=eval)\n",
    "print(results)\n",
    "metricResult= results.mean()\n",
    "print(metricResult)"
   ]
  },
  {
   "cell_type": "code",
   "execution_count": null,
   "metadata": {
    "collapsed": true
   },
   "outputs": [],
   "source": []
  }
 ],
 "metadata": {
  "kernelspec": {
   "display_name": "Python 3",
   "language": "python",
   "name": "python3"
  },
  "language_info": {
   "codemirror_mode": {
    "name": "ipython",
    "version": 3
   },
   "file_extension": ".py",
   "mimetype": "text/x-python",
   "name": "python",
   "nbconvert_exporter": "python",
   "pygments_lexer": "ipython3",
   "version": "3.6.3"
  }
 },
 "nbformat": 4,
 "nbformat_minor": 2
}
